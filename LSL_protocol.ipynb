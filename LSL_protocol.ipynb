{
 "cells": [
  {
   "cell_type": "markdown",
   "id": "d1b96926",
   "metadata": {},
   "source": [
    "# LSL Protocol Manual\n",
    "\n",
    "This notebook explains step by step how to use python and **pylsl** to:\n",
    "- Connect to an existing **LSL stream** \n",
    "- Output an LSL marker stream \n",
    "\n",
    "Note that this manual provides minimal information concerning LSL streams and how to manipulate them. For futher information please refere to these links:\n",
    "\n",
    "- pylsl github: https://github.com/labstreaminglayer/pylsl/tree/main\n",
    "- LSL User's Guide: https://labstreaminglayer.readthedocs.io/info/intro.html\n",
    "\n",
    "You can find examples of python scripts at this link:\n",
    "https://github.com/labstreaminglayer/pylsl/tree/main/src/pylsl/examples\n"
   ]
  },
  {
   "cell_type": "markdown",
   "id": "a31392a8",
   "metadata": {},
   "source": [
    "## Connect to Stream"
   ]
  },
  {
   "cell_type": "markdown",
   "id": "ed591c1c",
   "metadata": {},
   "source": [
    "### 1. Imports\n",
    "Make sure pylsl is installed in your environment. Otherwise use:\n",
    "    `pip install pylsl`"
   ]
  },
  {
   "cell_type": "code",
   "execution_count": null,
   "id": "05347f49",
   "metadata": {},
   "outputs": [],
   "source": [
    "from pylsl import StreamInlet, resolve_streams, StreamInfo, StreamOutlet"
   ]
  },
  {
   "cell_type": "markdown",
   "id": "de1ddfd4",
   "metadata": {},
   "source": [
    "### 2. Connecting to existing LSL Stream"
   ]
  },
  {
   "cell_type": "code",
   "execution_count": null,
   "id": "318c521d",
   "metadata": {},
   "outputs": [],
   "source": [
    "# name of stream you're looking for\n",
    "STREAM_NAME = \"UnicornRecorderLSLStream\" # change this to whatever the LSL stream name is \n",
    "\n",
    "# resolve all available streams\n",
    "streams = resolve_streams()\n",
    "\n",
    "# grab the first matching one\n",
    "eeg_stream = next((s for s in streams if s.name() == STREAM_NAME), None)\n",
    "\n",
    "if eeg_stream is None:\n",
    "    raise RuntimeError(\"No EEG stream found.\")\n",
    "\n",
    "inlet = StreamInlet(eeg_stream)"
   ]
  },
  {
   "cell_type": "markdown",
   "id": "abfeead2",
   "metadata": {},
   "source": [
    "### 3. Pull sample"
   ]
  },
  {
   "cell_type": "code",
   "execution_count": null,
   "id": "9fc691e2",
   "metadata": {},
   "outputs": [],
   "source": [
    "sample, timestamp = inlet.pull_sample(timeout=0.5)"
   ]
  },
  {
   "cell_type": "markdown",
   "id": "15521dde",
   "metadata": {},
   "source": [
    "## Output stream"
   ]
  },
  {
   "cell_type": "markdown",
   "id": "3dd11d1e",
   "metadata": {},
   "source": [
    "You can want to ouptut a stream if you're sending out markers for example."
   ]
  },
  {
   "cell_type": "markdown",
   "id": "59919273",
   "metadata": {},
   "source": [
    "### 1. Creating marker stream"
   ]
  },
  {
   "cell_type": "code",
   "execution_count": null,
   "id": "90b5370f",
   "metadata": {},
   "outputs": [],
   "source": [
    "# information on stream\n",
    "marker_info = StreamInfo(name='BetaMarkers', type='Markers', channel_count=1,\n",
    "                         channel_format='string', source_id='beta_marker_001')\n",
    "\n",
    "marker_outlet = StreamOutlet(marker_info)"
   ]
  },
  {
   "cell_type": "markdown",
   "id": "04bf06ad",
   "metadata": {},
   "source": [
    "### 2. Pushing marker stream"
   ]
  },
  {
   "cell_type": "code",
   "execution_count": null,
   "id": "79684c6b",
   "metadata": {},
   "outputs": [],
   "source": [
    "marker_outlet.push_sample([\"Marker\"])"
   ]
  }
 ],
 "metadata": {
  "language_info": {
   "name": "python"
  }
 },
 "nbformat": 4,
 "nbformat_minor": 5
}
